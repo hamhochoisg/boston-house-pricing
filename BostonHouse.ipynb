{
  "nbformat": 4,
  "nbformat_minor": 0,
  "metadata": {
    "colab": {
      "name": "5.6_WeeklyProject_BostonHouse Copy of ",
      "provenance": [],
      "collapsed_sections": []
    },
    "kernelspec": {
      "name": "python3",
      "display_name": "Python 3"
    },
    "language_info": {
      "name": "python"
    }
  },
  "cells": [
    {
      "cell_type": "markdown",
      "metadata": {
        "id": "Sh5OPHm9f9sA"
      },
      "source": [
        "# Weekly Project: Predicting Boston Housing prices"
      ]
    },
    {
      "cell_type": "markdown",
      "metadata": {
        "id": "poI7w8SGghl8"
      },
      "source": [
        "In this project, you will create, evaluate the performance and predictive power of your model on data collected from homes in suburbs of Boston, Massachusetts\n",
        "\n",
        "The dataset for this project originates from the UCI Machine Learning Repository. The Boston housing data was collected in 1978 and each of the 506 entries represent aggregated data about 14 features for homes from various suburbs in Boston, Massachusetts. **Data preprocessing has been applied to your dataset**. For the purposes of this project, the following preprocessing steps have been made to the dataset:\n",
        "\n",
        "- 16 data points have an 'MEDV' value of 50.0. These data points likely contain missing or censored values and have been removed.\n",
        "- 1 data point has an 'RM' value of 8.78. This data point can be considered an outlier and has been removed.\n",
        "- The features 'RM', 'LSTAT', 'PTRATIO', and 'MEDV' are essential. The remaining non-relevant features have been excluded.\n",
        "- The feature 'MEDV' has been multiplicatively scaled to account for 35 years of market inflation.\n",
        "\n",
        "Your task is to apply a machine learning model of your choice to predict the price of houses in a Boston neighborhood (which is column 'MEDV')\n"
      ]
    },
    {
      "cell_type": "markdown",
      "metadata": {
        "id": "nJ1Wd-C_sKli"
      },
      "source": [
        "The dataset can be accessed here: https://raw.githubusercontent.com/anhquan0412/boston_housing/master/housing.csv\n"
      ]
    },
    {
      "cell_type": "markdown",
      "metadata": {
        "id": "2rMOGC22m8N6"
      },
      "source": [
        "Here are the few steps you can follow"
      ]
    },
    {
      "cell_type": "markdown",
      "metadata": {
        "id": "RGFzFBZmmOT6"
      },
      "source": [
        "\n",
        "\n",
        "# Step 1: Data Exploration (EDA)\n",
        "\n",
        "Familiarizing yourself with the data through an explorative process is a fundamental practice to help you better understand and justify your results.\n",
        "\n",
        "As a reminder, we are using three features from the Boston housing dataset: 'RM', 'LSTAT', and 'PTRATIO'. For each data point (neighborhood):\n",
        "\n",
        "- 'RM' is the average number of rooms among homes in the neighborhood.\n",
        "- 'LSTAT' is the percentage of homeowners in the neighborhood considered \"lower class\" (working poor).\n",
        "- 'PTRATIO' is the ratio of students to teachers in primary and secondary schools in the neighborhood.\n",
        "\n",
        "**Question**: For each of the three features above, do you think that an increase in the value of that feature would lead to an increase in the value of 'MEDV' or a decrease in the value of 'MEDV'? Justify your answer for each by plotting or calculating the correlation\n",
        "\n"
      ]
    },
    {
      "cell_type": "code",
      "metadata": {
        "id": "-nHh-FYPm98r",
        "colab": {
          "base_uri": "https://localhost:8080/",
          "height": 203
        },
        "outputId": "4b6e0f48-b286-473d-ff58-5548963759fb"
      },
      "source": [
        "import numpy as np\n",
        "import pandas as pd\n",
        "from seaborn import load_dataset\n",
        "import matplotlib.pyplot as plt\n",
        "import seaborn as sns \n",
        "import matplotlib.pyplot as plt\n",
        "\n",
        "# Import modules for feature engineering and modelling\n",
        "from sklearn.model_selection import train_test_split\n",
        "# from sklearn.base import BaseEstimator, TransformerMixin\n",
        "\n",
        "\n",
        "# Load dataset\n",
        "df = pd.read_csv('https://raw.githubusercontent.com/anhquan0412/boston_housing/master/housing.csv')\n",
        "pd.options.display.float_format = \"{:.2f}\".format \n",
        "\n",
        "# Add missing values\n",
        "df.head()"
      ],
      "execution_count": null,
      "outputs": [
        {
          "output_type": "execute_result",
          "data": {
            "text/html": [
              "<div>\n",
              "<style scoped>\n",
              "    .dataframe tbody tr th:only-of-type {\n",
              "        vertical-align: middle;\n",
              "    }\n",
              "\n",
              "    .dataframe tbody tr th {\n",
              "        vertical-align: top;\n",
              "    }\n",
              "\n",
              "    .dataframe thead th {\n",
              "        text-align: right;\n",
              "    }\n",
              "</style>\n",
              "<table border=\"1\" class=\"dataframe\">\n",
              "  <thead>\n",
              "    <tr style=\"text-align: right;\">\n",
              "      <th></th>\n",
              "      <th>RM</th>\n",
              "      <th>LSTAT</th>\n",
              "      <th>PTRATIO</th>\n",
              "      <th>MEDV</th>\n",
              "    </tr>\n",
              "  </thead>\n",
              "  <tbody>\n",
              "    <tr>\n",
              "      <th>0</th>\n",
              "      <td>6.58</td>\n",
              "      <td>4.98</td>\n",
              "      <td>15.30</td>\n",
              "      <td>504000.00</td>\n",
              "    </tr>\n",
              "    <tr>\n",
              "      <th>1</th>\n",
              "      <td>6.42</td>\n",
              "      <td>9.14</td>\n",
              "      <td>17.80</td>\n",
              "      <td>453600.00</td>\n",
              "    </tr>\n",
              "    <tr>\n",
              "      <th>2</th>\n",
              "      <td>7.18</td>\n",
              "      <td>4.03</td>\n",
              "      <td>17.80</td>\n",
              "      <td>728700.00</td>\n",
              "    </tr>\n",
              "    <tr>\n",
              "      <th>3</th>\n",
              "      <td>7.00</td>\n",
              "      <td>2.94</td>\n",
              "      <td>18.70</td>\n",
              "      <td>701400.00</td>\n",
              "    </tr>\n",
              "    <tr>\n",
              "      <th>4</th>\n",
              "      <td>7.15</td>\n",
              "      <td>5.33</td>\n",
              "      <td>18.70</td>\n",
              "      <td>760200.00</td>\n",
              "    </tr>\n",
              "  </tbody>\n",
              "</table>\n",
              "</div>"
            ],
            "text/plain": [
              "    RM  LSTAT  PTRATIO      MEDV\n",
              "0 6.58   4.98    15.30 504000.00\n",
              "1 6.42   9.14    17.80 453600.00\n",
              "2 7.18   4.03    17.80 728700.00\n",
              "3 7.00   2.94    18.70 701400.00\n",
              "4 7.15   5.33    18.70 760200.00"
            ]
          },
          "metadata": {},
          "execution_count": 1
        }
      ]
    },
    {
      "cell_type": "code",
      "metadata": {
        "colab": {
          "base_uri": "https://localhost:8080/"
        },
        "id": "2KKeNk1A5rCs",
        "outputId": "4184f511-7ac6-431d-fb04-68a54a1d457e"
      },
      "source": [
        "df.info()"
      ],
      "execution_count": null,
      "outputs": [
        {
          "output_type": "stream",
          "text": [
            "<class 'pandas.core.frame.DataFrame'>\n",
            "RangeIndex: 489 entries, 0 to 488\n",
            "Data columns (total 4 columns):\n",
            " #   Column   Non-Null Count  Dtype  \n",
            "---  ------   --------------  -----  \n",
            " 0   RM       489 non-null    float64\n",
            " 1   LSTAT    489 non-null    float64\n",
            " 2   PTRATIO  489 non-null    float64\n",
            " 3   MEDV     489 non-null    float64\n",
            "dtypes: float64(4)\n",
            "memory usage: 15.4 KB\n"
          ],
          "name": "stdout"
        }
      ]
    },
    {
      "cell_type": "code",
      "metadata": {
        "colab": {
          "base_uri": "https://localhost:8080/",
          "height": 400
        },
        "id": "yDE15DqL8_vU",
        "outputId": "1e9ca7b2-9a2e-48ef-be94-ac17988f4d35"
      },
      "source": [
        "plt.figure(figsize=(12, 10))\n",
        "fig, ax = plt.subplots(1, 3, figsize=(21, 6))\n",
        "sns.scatterplot(data=df,x='RM',y='MEDV',ax=ax[0])\n",
        "df.plot.scatter(x='LSTAT',y='MEDV',ax=ax[1])\n",
        "df.plot.scatter(x='PTRATIO',y='MEDV',ax=ax[2])\n"
      ],
      "execution_count": null,
      "outputs": [
        {
          "output_type": "execute_result",
          "data": {
            "text/plain": [
              "<matplotlib.axes._subplots.AxesSubplot at 0x7f40472dbd90>"
            ]
          },
          "metadata": {},
          "execution_count": 3
        },
        {
          "output_type": "display_data",
          "data": {
            "text/plain": [
              "<Figure size 864x720 with 0 Axes>"
            ]
          },
          "metadata": {}
        },
        {
          "output_type": "display_data",
          "data": {
            "image/png": "[encoded data removed]",
            "text/plain": [
              "<Figure size 1512x432 with 3 Axes>"
            ]
          },
          "metadata": {
            "needs_background": "light"
          }
        }
      ]
    },
    {
      "cell_type": "markdown",
      "metadata": {
        "id": "UNuKGPBo5qwh"
      },
      "source": [
        "**Có thể phỏng đoán RM, LSTAT có liên quan, còn PTRATIO không liên quan đến biên MEDV**"
      ]
    },
    {
      "cell_type": "code",
      "metadata": {
        "colab": {
          "base_uri": "https://localhost:8080/",
          "height": 121
        },
        "id": "K4Wh6a5KJGjb",
        "outputId": "e900b98a-576b-4325-a339-05c5c8548c34"
      },
      "source": [
        "df.corr().style.background_gradient(cmap='Blues')"
      ],
      "execution_count": null,
      "outputs": [
        {
          "output_type": "execute_result",
          "data": {
            "text/html": [
              "<style  type=\"text/css\" >\n",
              "#T_9a9b6e10_05b2_11ec_9a4d_0242ac1c0002row0_col0,#T_9a9b6e10_05b2_11ec_9a4d_0242ac1c0002row1_col1,#T_9a9b6e10_05b2_11ec_9a4d_0242ac1c0002row2_col2,#T_9a9b6e10_05b2_11ec_9a4d_0242ac1c0002row3_col3{\n",
              "            background-color:  #08306b;\n",
              "            color:  #f1f1f1;\n",
              "        }#T_9a9b6e10_05b2_11ec_9a4d_0242ac1c0002row0_col1{\n",
              "            background-color:  #e7f0fa;\n",
              "            color:  #000000;\n",
              "        }#T_9a9b6e10_05b2_11ec_9a4d_0242ac1c0002row0_col2{\n",
              "            background-color:  #dbe9f6;\n",
              "            color:  #000000;\n",
              "        }#T_9a9b6e10_05b2_11ec_9a4d_0242ac1c0002row0_col3{\n",
              "            background-color:  #125da6;\n",
              "            color:  #f1f1f1;\n",
              "        }#T_9a9b6e10_05b2_11ec_9a4d_0242ac1c0002row1_col0,#T_9a9b6e10_05b2_11ec_9a4d_0242ac1c0002row1_col3,#T_9a9b6e10_05b2_11ec_9a4d_0242ac1c0002row3_col1,#T_9a9b6e10_05b2_11ec_9a4d_0242ac1c0002row3_col2{\n",
              "            background-color:  #f7fbff;\n",
              "            color:  #000000;\n",
              "        }#T_9a9b6e10_05b2_11ec_9a4d_0242ac1c0002row1_col2{\n",
              "            background-color:  #519ccc;\n",
              "            color:  #000000;\n",
              "        }#T_9a9b6e10_05b2_11ec_9a4d_0242ac1c0002row2_col0{\n",
              "            background-color:  #d2e3f3;\n",
              "            color:  #000000;\n",
              "        }#T_9a9b6e10_05b2_11ec_9a4d_0242ac1c0002row2_col1{\n",
              "            background-color:  #3e8ec4;\n",
              "            color:  #000000;\n",
              "        }#T_9a9b6e10_05b2_11ec_9a4d_0242ac1c0002row2_col3{\n",
              "            background-color:  #dce9f6;\n",
              "            color:  #000000;\n",
              "        }#T_9a9b6e10_05b2_11ec_9a4d_0242ac1c0002row3_col0{\n",
              "            background-color:  #1561a9;\n",
              "            color:  #f1f1f1;\n",
              "        }</style><table id=\"T_9a9b6e10_05b2_11ec_9a4d_0242ac1c0002\" ><thead>    <tr>        <th class=\"blank level0\" ></th>        <th class=\"col_heading level0 col0\" >RM</th>        <th class=\"col_heading level0 col1\" >LSTAT</th>        <th class=\"col_heading level0 col2\" >PTRATIO</th>        <th class=\"col_heading level0 col3\" >MEDV</th>    </tr></thead><tbody>\n",
              "                <tr>\n",
              "                        <th id=\"T_9a9b6e10_05b2_11ec_9a4d_0242ac1c0002level0_row0\" class=\"row_heading level0 row0\" >RM</th>\n",
              "                        <td id=\"T_9a9b6e10_05b2_11ec_9a4d_0242ac1c0002row0_col0\" class=\"data row0 col0\" >1.000000</td>\n",
              "                        <td id=\"T_9a9b6e10_05b2_11ec_9a4d_0242ac1c0002row0_col1\" class=\"data row0 col1\" >-0.612033</td>\n",
              "                        <td id=\"T_9a9b6e10_05b2_11ec_9a4d_0242ac1c0002row0_col2\" class=\"data row0 col2\" >-0.304559</td>\n",
              "                        <td id=\"T_9a9b6e10_05b2_11ec_9a4d_0242ac1c0002row0_col3\" class=\"data row0 col3\" >0.697209</td>\n",
              "            </tr>\n",
              "            <tr>\n",
              "                        <th id=\"T_9a9b6e10_05b2_11ec_9a4d_0242ac1c0002level0_row1\" class=\"row_heading level0 row1\" >LSTAT</th>\n",
              "                        <td id=\"T_9a9b6e10_05b2_11ec_9a4d_0242ac1c0002row1_col0\" class=\"data row1 col0\" >-0.612033</td>\n",
              "                        <td id=\"T_9a9b6e10_05b2_11ec_9a4d_0242ac1c0002row1_col1\" class=\"data row1 col1\" >1.000000</td>\n",
              "                        <td id=\"T_9a9b6e10_05b2_11ec_9a4d_0242ac1c0002row1_col2\" class=\"data row1 col2\" >0.360445</td>\n",
              "                        <td id=\"T_9a9b6e10_05b2_11ec_9a4d_0242ac1c0002row1_col3\" class=\"data row1 col3\" >-0.760670</td>\n",
              "            </tr>\n",
              "            <tr>\n",
              "                        <th id=\"T_9a9b6e10_05b2_11ec_9a4d_0242ac1c0002level0_row2\" class=\"row_heading level0 row2\" >PTRATIO</th>\n",
              "                        <td id=\"T_9a9b6e10_05b2_11ec_9a4d_0242ac1c0002row2_col0\" class=\"data row2 col0\" >-0.304559</td>\n",
              "                        <td id=\"T_9a9b6e10_05b2_11ec_9a4d_0242ac1c0002row2_col1\" class=\"data row2 col1\" >0.360445</td>\n",
              "                        <td id=\"T_9a9b6e10_05b2_11ec_9a4d_0242ac1c0002row2_col2\" class=\"data row2 col2\" >1.000000</td>\n",
              "                        <td id=\"T_9a9b6e10_05b2_11ec_9a4d_0242ac1c0002row2_col3\" class=\"data row2 col3\" >-0.519034</td>\n",
              "            </tr>\n",
              "            <tr>\n",
              "                        <th id=\"T_9a9b6e10_05b2_11ec_9a4d_0242ac1c0002level0_row3\" class=\"row_heading level0 row3\" >MEDV</th>\n",
              "                        <td id=\"T_9a9b6e10_05b2_11ec_9a4d_0242ac1c0002row3_col0\" class=\"data row3 col0\" >0.697209</td>\n",
              "                        <td id=\"T_9a9b6e10_05b2_11ec_9a4d_0242ac1c0002row3_col1\" class=\"data row3 col1\" >-0.760670</td>\n",
              "                        <td id=\"T_9a9b6e10_05b2_11ec_9a4d_0242ac1c0002row3_col2\" class=\"data row3 col2\" >-0.519034</td>\n",
              "                        <td id=\"T_9a9b6e10_05b2_11ec_9a4d_0242ac1c0002row3_col3\" class=\"data row3 col3\" >1.000000</td>\n",
              "            </tr>\n",
              "    </tbody></table>"
            ],
            "text/plain": [
              "<pandas.io.formats.style.Styler at 0x7f404670db50>"
            ]
          },
          "metadata": {},
          "execution_count": 4
        }
      ]
    },
    {
      "cell_type": "markdown",
      "metadata": {
        "id": "AJJeQyNBJ5-y"
      },
      "source": [
        "**PTRATIO rõ ràng có độ liên quan kém hơn 2 biến kia với MEDV**"
      ]
    },
    {
      "cell_type": "markdown",
      "metadata": {
        "id": "yEi9eqNqm-RH"
      },
      "source": [
        "# Step 2: Get to know our performance Metric\n",
        "\n",
        "Do a quick read on Mean Absolute Error (MAE), because that is going to be the metric we are going to use for this task.\n",
        "\n",
        "https://scikit-learn.org/stable/modules/generated/sklearn.metrics.mean_absolute_error.html\n",
        "\n",
        "**Question**: Calculate MAE on these data points by using the Sklearn library\n",
        "```python\n",
        "y_true = [3, -0.5, 2, 7, 4.2]\n",
        "y_pred = [2.5, 0, 2.1, 7.8, 5.3]\n",
        "```\n",
        "If a model is making these prediction (y_pred), is this a good model?"
      ]
    },
    {
      "cell_type": "code",
      "metadata": {
        "id": "ArkOOX2MnvoF"
      },
      "source": [
        "from sklearn.metrics import mean_absolute_error"
      ],
      "execution_count": null,
      "outputs": []
    },
    {
      "cell_type": "code",
      "metadata": {
        "colab": {
          "base_uri": "https://localhost:8080/"
        },
        "id": "3p0lktNOElS9",
        "outputId": "3891a809-5597-4839-c386-d7c246be29ae"
      },
      "source": [
        "y_true = [3, -0.5, 2, 7, 4.2]\n",
        "y_pred = [2.5, 0, 2.1, 7.8, 5.3]\n",
        "mae = mean_absolute_error(y_true,y_pred)\n",
        "\n",
        "y_true_mean = np.array(y_true).mean()\n",
        "mae / y_true_mean "
      ],
      "execution_count": null,
      "outputs": [
        {
          "output_type": "execute_result",
          "data": {
            "text/plain": [
              "0.19108280254777069"
            ]
          },
          "metadata": {},
          "execution_count": 6
        }
      ]
    },
    {
      "cell_type": "markdown",
      "metadata": {
        "id": "TRe5873QE6NX"
      },
      "source": [
        "Với mức MAE ~0.6 so với mean của y_true là ~20% => model chạy tốt !"
      ]
    },
    {
      "cell_type": "markdown",
      "metadata": {
        "id": "X78OJElUnwfE"
      },
      "source": [
        "# Step 3: Train our machine learning model\n",
        "\n",
        "Your task is to build a pipeline to preprocess this data and train a linear regression model to predict the house price. Make sure to follow all the recommended practices we mention in class. \n",
        "\n",
        "Here are 2 pipelines you should implement \n",
        "- The first pipeline include: MinMaxScaler (or Standard Scaler) as **Transformer** (to preprocess), and Linear Regression as **Estimator** (machine learning model)\n",
        "\n",
        "- The second pipeline include: Polynomial Feature, **then** Standard Scaler as **Transformers**, and Linear Regression as **Estimator**. Pay attention that you have 2 transformers in a very specific order.\n",
        "\n",
        "\n",
        "\n",
        "\n"
      ]
    },
    {
      "cell_type": "code",
      "metadata": {
        "id": "_0S8NeDqPOg1"
      },
      "source": [
        "from sklearn.model_selection import train_test_split\n",
        "from sklearn.preprocessing import MinMaxScaler\n",
        "from sklearn.pipeline import Pipeline\n",
        "from sklearn.linear_model import LinearRegression\n",
        "from sklearn.preprocessing import StandardScaler"
      ],
      "execution_count": null,
      "outputs": []
    },
    {
      "cell_type": "code",
      "metadata": {
        "id": "G89kS7-3QhT0",
        "colab": {
          "base_uri": "https://localhost:8080/",
          "height": 417
        },
        "outputId": "67fe451a-2c7a-4206-adbd-e7bf19fc764b"
      },
      "source": [
        "df[['MEDV','RM']]"
      ],
      "execution_count": null,
      "outputs": [
        {
          "output_type": "execute_result",
          "data": {
            "text/html": [
              "<div>\n",
              "<style scoped>\n",
              "    .dataframe tbody tr th:only-of-type {\n",
              "        vertical-align: middle;\n",
              "    }\n",
              "\n",
              "    .dataframe tbody tr th {\n",
              "        vertical-align: top;\n",
              "    }\n",
              "\n",
              "    .dataframe thead th {\n",
              "        text-align: right;\n",
              "    }\n",
              "</style>\n",
              "<table border=\"1\" class=\"dataframe\">\n",
              "  <thead>\n",
              "    <tr style=\"text-align: right;\">\n",
              "      <th></th>\n",
              "      <th>MEDV</th>\n",
              "      <th>RM</th>\n",
              "    </tr>\n",
              "  </thead>\n",
              "  <tbody>\n",
              "    <tr>\n",
              "      <th>0</th>\n",
              "      <td>504000.00</td>\n",
              "      <td>6.58</td>\n",
              "    </tr>\n",
              "    <tr>\n",
              "      <th>1</th>\n",
              "      <td>453600.00</td>\n",
              "      <td>6.42</td>\n",
              "    </tr>\n",
              "    <tr>\n",
              "      <th>2</th>\n",
              "      <td>728700.00</td>\n",
              "      <td>7.18</td>\n",
              "    </tr>\n",
              "    <tr>\n",
              "      <th>3</th>\n",
              "      <td>701400.00</td>\n",
              "      <td>7.00</td>\n",
              "    </tr>\n",
              "    <tr>\n",
              "      <th>4</th>\n",
              "      <td>760200.00</td>\n",
              "      <td>7.15</td>\n",
              "    </tr>\n",
              "    <tr>\n",
              "      <th>...</th>\n",
              "      <td>...</td>\n",
              "      <td>...</td>\n",
              "    </tr>\n",
              "    <tr>\n",
              "      <th>484</th>\n",
              "      <td>470400.00</td>\n",
              "      <td>6.59</td>\n",
              "    </tr>\n",
              "    <tr>\n",
              "      <th>485</th>\n",
              "      <td>432600.00</td>\n",
              "      <td>6.12</td>\n",
              "    </tr>\n",
              "    <tr>\n",
              "      <th>486</th>\n",
              "      <td>501900.00</td>\n",
              "      <td>6.98</td>\n",
              "    </tr>\n",
              "    <tr>\n",
              "      <th>487</th>\n",
              "      <td>462000.00</td>\n",
              "      <td>6.79</td>\n",
              "    </tr>\n",
              "    <tr>\n",
              "      <th>488</th>\n",
              "      <td>249900.00</td>\n",
              "      <td>6.03</td>\n",
              "    </tr>\n",
              "  </tbody>\n",
              "</table>\n",
              "<p>489 rows × 2 columns</p>\n",
              "</div>"
            ],
            "text/plain": [
              "         MEDV   RM\n",
              "0   504000.00 6.58\n",
              "1   453600.00 6.42\n",
              "2   728700.00 7.18\n",
              "3   701400.00 7.00\n",
              "4   760200.00 7.15\n",
              "..        ...  ...\n",
              "484 470400.00 6.59\n",
              "485 432600.00 6.12\n",
              "486 501900.00 6.98\n",
              "487 462000.00 6.79\n",
              "488 249900.00 6.03\n",
              "\n",
              "[489 rows x 2 columns]"
            ]
          },
          "metadata": {},
          "execution_count": 8
        }
      ]
    },
    {
      "cell_type": "code",
      "metadata": {
        "id": "tjMnpPnq3kCp"
      },
      "source": [
        "# Define your first pipeline here\n",
        "pipe1 = Pipeline(\n",
        "    [('mmTransformer', MinMaxScaler()),\n",
        "     ('estimator',LinearRegression())     \n",
        "    ]\n",
        ")"
      ],
      "execution_count": null,
      "outputs": []
    },
    {
      "cell_type": "code",
      "metadata": {
        "id": "2yZWMxAmk2eo"
      },
      "source": [
        "from sklearn.preprocessing import PolynomialFeatures"
      ],
      "execution_count": null,
      "outputs": []
    },
    {
      "cell_type": "code",
      "metadata": {
        "id": "GxWRvSLd3mfc"
      },
      "source": [
        "# Define your second pipeline here\n",
        "pipe2 = Pipeline(\n",
        "    [('PolynomialFeatures',PolynomialFeatures(2)),\n",
        "     ('stdTransformer',StandardScaler()),\n",
        "     ('estimator',LinearRegression())      \n",
        "    ]\n",
        ")"
      ],
      "execution_count": null,
      "outputs": []
    },
    {
      "cell_type": "markdown",
      "metadata": {
        "id": "NmZvaFnG2HA2"
      },
      "source": [
        "## Part 1: Use a simple train-test split\n",
        "\n",
        "*Do these following step for the first pipeline only*:\n",
        "\n",
        "- Use sklearn `train_test_split` to split data into train set and test set. Use random_state = 42\n",
        "- Fit the pipeline on train set\n",
        "- Use pipline to predict the test set\n",
        "- Calculate the MAE on test set"
      ]
    },
    {
      "cell_type": "code",
      "metadata": {
        "id": "5AufS9xkpbO1"
      },
      "source": [
        "# YOUR CODE HERE\n",
        "#Create X_train, Y_train, X_Test, Y_Test\n",
        "X_train, X_test, y_train, y_test = train_test_split(\n",
        "    df.drop(columns=['MEDV']),df['MEDV'],test_size=0.2,random_state=42\n",
        ")"
      ],
      "execution_count": null,
      "outputs": []
    },
    {
      "cell_type": "code",
      "metadata": {
        "colab": {
          "base_uri": "https://localhost:8080/"
        },
        "id": "wVxFSbujeAsD",
        "outputId": "3be31524-2af2-4930-a06b-36b37e923544"
      },
      "source": [
        "pipe1.fit(X_train,y_train)"
      ],
      "execution_count": null,
      "outputs": [
        {
          "output_type": "execute_result",
          "data": {
            "text/plain": [
              "Pipeline(memory=None,\n",
              "         steps=[('mmTransformer',\n",
              "                 MinMaxScaler(copy=True, feature_range=(0, 1))),\n",
              "                ('estimator',\n",
              "                 LinearRegression(copy_X=True, fit_intercept=True, n_jobs=None,\n",
              "                                  normalize=False))],\n",
              "         verbose=False)"
            ]
          },
          "metadata": {},
          "execution_count": 13
        }
      ]
    },
    {
      "cell_type": "code",
      "metadata": {
        "colab": {
          "base_uri": "https://localhost:8080/"
        },
        "id": "SKPYwRvUeYcY",
        "outputId": "79e217b0-4d84-4a1d-a5f2-045c1202e73a"
      },
      "source": [
        "#print out pipe1 result\n",
        "print(pipe1['estimator'].coef_)\n",
        "print(pipe1['estimator'].intercept_)"
      ],
      "execution_count": null,
      "outputs": [
        {
          "output_type": "stream",
          "text": [
            "[ 422377.49890323 -382236.7369749  -181649.45678709]\n",
            "454465.58963392145\n"
          ],
          "name": "stdout"
        }
      ]
    },
    {
      "cell_type": "code",
      "metadata": {
        "colab": {
          "base_uri": "https://localhost:8080/"
        },
        "id": "ajIbgKqfe4xM",
        "outputId": "3e893e25-f9e9-47d7-f359-5167aaca3ce9"
      },
      "source": [
        "#Create predict set to analyze\n",
        "y_train_pred = pipe1.predict(X_train)\n",
        "mae1 = mean_absolute_error(y_train,y_train_pred)\n",
        "mae1"
      ],
      "execution_count": null,
      "outputs": [
        {
          "output_type": "execute_result",
          "data": {
            "text/plain": [
              "66173.47210488864"
            ]
          },
          "metadata": {},
          "execution_count": 15
        }
      ]
    },
    {
      "cell_type": "markdown",
      "metadata": {
        "id": "cgC6Fpme3t0d"
      },
      "source": [
        "## Part 2: Use 5 fold cross-validation without polynomial features\n",
        "\n",
        "*Do these following steps for first pipeline*\n",
        "\n",
        "You don't do a simple train-test split. Instead, you will **do train-test split 5 times** and then calculate the mean of the MAE score for these 5 test set.\n",
        "\n",
        "Take a look at sklearn cross_validation here: https://scikit-learn.org/stable/modules/generated/sklearn.model_selection.cross_val_score.html and write the code to **calculate the mean of MAE of these 5-fold cross validation results**\n",
        "\n",
        "\n",
        "\n",
        "*Hint*: You need to read the documentation to know exactly what will be returned when you use `cross_val_score(your_pipeline, X,y, scoring=\"neg_mean_absolute_error\")`. And note that the only scoring that similar to MAE in `cross_val_score` is `neg_mean_absolute_error`, which means the result will be negative MAE. All you need to do is multiply the result by -1 to turn them into positive MAE."
      ]
    },
    {
      "cell_type": "code",
      "metadata": {
        "id": "iSLg0gdF765x"
      },
      "source": [
        "from sklearn.model_selection import cross_val_score"
      ],
      "execution_count": null,
      "outputs": []
    },
    {
      "cell_type": "code",
      "metadata": {
        "id": "T2fAhckg75HV",
        "colab": {
          "base_uri": "https://localhost:8080/"
        },
        "outputId": "e461dc83-d894-4ddc-e019-e218248df872"
      },
      "source": [
        "# YOUR CODE HERE\n",
        "scores = cross_val_score(pipe1,X_train,y_train,scoring=\"neg_mean_absolute_error\")\n",
        "scores.mean()*-1"
      ],
      "execution_count": null,
      "outputs": [
        {
          "output_type": "execute_result",
          "data": {
            "text/plain": [
              "67221.78844633946"
            ]
          },
          "metadata": {},
          "execution_count": 17
        }
      ]
    },
    {
      "cell_type": "markdown",
      "metadata": {
        "id": "WKntpuyt77c7"
      },
      "source": [
        "## Part 3: Use 5 fold cross-validation with polynomial features"
      ]
    },
    {
      "cell_type": "markdown",
      "metadata": {
        "id": "SWWQRvHt7_ZX"
      },
      "source": [
        "*Do these following steps for first pipeline*\n",
        "\n",
        "Repeat everything in **Part 2** on the second pipeline (The one with Polynomial Feature as one of the transformer). For this one, write a `for` loop to test out different degree for Polynomial Feature. Here is roughly what your code should look like\n",
        "```\n",
        "for each value n in a range of your choice:\n",
        "    - create a pipeline including Polynomial Feature(degree=n) => MinMaxScaler => Linear Regression\n",
        "    - call cross_val_score on this pipeline\n",
        "    - calculate mean of MAE scores from cross validation\n",
        "```\n",
        "\n"
      ]
    },
    {
      "cell_type": "code",
      "metadata": {
        "id": "CxwX9opy7o4p",
        "colab": {
          "base_uri": "https://localhost:8080/"
        },
        "outputId": "66664fb4-5eb5-4ddf-bb18-cff39fcd3b70"
      },
      "source": [
        "# YOUR CODE HERE\n",
        "for i in range(2,10):\n",
        "  pipei = Pipeline(\n",
        "      [('PolynomialFeatures',PolynomialFeatures(i)),\n",
        "       ('stdTransformer',StandardScaler()),\n",
        "       ('estimator',LinearRegression())        \n",
        "      ]  \n",
        "  )\n",
        "  scores = cross_val_score(pipei,X_train,y_train,scoring='neg_mean_absolute_error')\n",
        "  print(f'with degree = {i}')\n",
        "  print(f'mae =', scores.mean()*-1)\n",
        "  "
      ],
      "execution_count": null,
      "outputs": [
        {
          "output_type": "stream",
          "text": [
            "with degree = 2\n",
            "mae = 54116.661145499595\n",
            "with degree = 3\n",
            "mae = 53175.49465617437\n",
            "with degree = 4\n",
            "mae = 59978.8655728684\n",
            "with degree = 5\n",
            "mae = 65560.09128984367\n",
            "with degree = 6\n",
            "mae = 226441.10490795053\n",
            "with degree = 7\n",
            "mae = 1365264.8301500694\n",
            "with degree = 8\n",
            "mae = 12592723.508436058\n",
            "with degree = 9\n",
            "mae = 110873900.09846468\n"
          ],
          "name": "stdout"
        }
      ]
    },
    {
      "cell_type": "code",
      "metadata": {
        "id": "2s_zNP0fnKsd"
      },
      "source": [
        ""
      ],
      "execution_count": null,
      "outputs": []
    },
    {
      "cell_type": "markdown",
      "metadata": {
        "id": "nO4Zr1IwCqFA"
      },
      "source": [
        "*Bonus*: after you finish this lab, go back to this question, and consider a better way to search for the best degree by using gridsearchCV: https://scikit-learn.org/stable/modules/generated/sklearn.model_selection.GridSearchCV.html\n"
      ]
    },
    {
      "cell_type": "markdown",
      "metadata": {
        "id": "mrwhDUznpbzB"
      },
      "source": [
        "# Step 4: Reporting your MAE\n",
        "\n",
        "From part 2 and part 3, which pipeline ends up with the lowest mean MAE from cross validation? And what is that MAE?"
      ]
    },
    {
      "cell_type": "markdown",
      "metadata": {
        "id": "HwZXfdQEpdE-"
      },
      "source": [
        "**MAE thấp nhất:**\n",
        "* mae = 53175.49465617437\n",
        "* Pipeline 2 với with degree = 3\n"
      ]
    },
    {
      "cell_type": "code",
      "metadata": {
        "id": "0PwrNkxqr9TJ"
      },
      "source": [
        ""
      ],
      "execution_count": null,
      "outputs": []
    },
    {
      "cell_type": "markdown",
      "metadata": {
        "id": "pvNfEbcYqtAU"
      },
      "source": [
        "# Step 5: Making predictions"
      ]
    },
    {
      "cell_type": "markdown",
      "metadata": {
        "id": "vwDl5_7qqurr"
      },
      "source": [
        "Imagine that you were a real estate agent in the Boston area looking to use this model to help price homes owned by your clients that they wish to sell. You have collected the following information from three of your clients:\n",
        "\n",
        "|Feature\t|Client 1\t|Client 2\t|Client 3|\n",
        "|-----------|-----------|-----------|--------|\n",
        "|Total number of rooms in home\t|5 rooms\t|4 rooms\t|8 rooms|\n",
        "|Neighborhood poverty level (as %)\t|17%\t|32%\t|3%|\n",
        "|Student-teacher ratio of nearby schools\t|15-to-1\t|22-to-1\t|12-to-1|\n",
        "\n",
        "Based on your model, what price would you recommend each client sell his/her home at?\n"
      ]
    },
    {
      "cell_type": "markdown",
      "metadata": {
        "id": "TzTxuKu2-c0C"
      },
      "source": [
        "Note that at this point, you haven't had a trained model to make the prediction on this data. So we will create a pipeline and train it.\n",
        "\n",
        "To do this question, you need to\n",
        "- Redefine the best pipeline that you report in step 4\n",
        "- **Fit** this pipeline on the entire dataset given at the beginning (we don't need to do train/test split here as we already know this is our best pipeline)\n",
        "- Manually create a new test data including 3 clients from the table above\n",
        "- Use the pipeline you have fitted to **predict** this new test data\n",
        "- Save the prediction to a variable called `client_preds`"
      ]
    },
    {
      "cell_type": "code",
      "metadata": {
        "id": "gc0XW6yfsj2E"
      },
      "source": [
        "#define pipeline 3 degree\n",
        "pipe3de = Pipeline(\n",
        "      [('PolynomialFeatures',PolynomialFeatures(3)),\n",
        "       ('stdTransformer',StandardScaler()),\n",
        "       ('estimator',LinearRegression())        \n",
        "      ]  \n",
        "  )"
      ],
      "execution_count": null,
      "outputs": []
    },
    {
      "cell_type": "code",
      "metadata": {
        "colab": {
          "base_uri": "https://localhost:8080/"
        },
        "id": "kUY6m_7DsuKu",
        "outputId": "c8f0709e-62b7-43a6-b870-27ce87552e83"
      },
      "source": [
        "#Fit the pipeline\n",
        "pipe3de.fit(X_train,y_train)"
      ],
      "execution_count": null,
      "outputs": [
        {
          "output_type": "execute_result",
          "data": {
            "text/plain": [
              "Pipeline(memory=None,\n",
              "         steps=[('PolynomialFeatures',\n",
              "                 PolynomialFeatures(degree=3, include_bias=True,\n",
              "                                    interaction_only=False, order='C')),\n",
              "                ('stdTransformer',\n",
              "                 StandardScaler(copy=True, with_mean=True, with_std=True)),\n",
              "                ('estimator',\n",
              "                 LinearRegression(copy_X=True, fit_intercept=True, n_jobs=None,\n",
              "                                  normalize=False))],\n",
              "         verbose=False)"
            ]
          },
          "metadata": {},
          "execution_count": 20
        }
      ]
    },
    {
      "cell_type": "markdown",
      "metadata": {
        "id": "0UP-ePTErYrO"
      },
      "source": [
        "5,17,15"
      ]
    },
    {
      "cell_type": "code",
      "metadata": {
        "colab": {
          "base_uri": "https://localhost:8080/",
          "height": 142
        },
        "id": "Su9wGobFqb-w",
        "outputId": "cdeab820-726d-400a-aecd-34d87af16ac1"
      },
      "source": [
        "# create X test dataframe \n",
        "X_test = pd.DataFrame(np.array([[5,17,15],[4,32,22],[8,3,12]]))\n",
        "X_test.columns = ['RM','LSTAT','PTRATIO']\n",
        "X_test"
      ],
      "execution_count": null,
      "outputs": [
        {
          "output_type": "execute_result",
          "data": {
            "text/html": [
              "<div>\n",
              "<style scoped>\n",
              "    .dataframe tbody tr th:only-of-type {\n",
              "        vertical-align: middle;\n",
              "    }\n",
              "\n",
              "    .dataframe tbody tr th {\n",
              "        vertical-align: top;\n",
              "    }\n",
              "\n",
              "    .dataframe thead th {\n",
              "        text-align: right;\n",
              "    }\n",
              "</style>\n",
              "<table border=\"1\" class=\"dataframe\">\n",
              "  <thead>\n",
              "    <tr style=\"text-align: right;\">\n",
              "      <th></th>\n",
              "      <th>RM</th>\n",
              "      <th>LSTAT</th>\n",
              "      <th>PTRATIO</th>\n",
              "    </tr>\n",
              "  </thead>\n",
              "  <tbody>\n",
              "    <tr>\n",
              "      <th>0</th>\n",
              "      <td>5</td>\n",
              "      <td>17</td>\n",
              "      <td>15</td>\n",
              "    </tr>\n",
              "    <tr>\n",
              "      <th>1</th>\n",
              "      <td>4</td>\n",
              "      <td>32</td>\n",
              "      <td>22</td>\n",
              "    </tr>\n",
              "    <tr>\n",
              "      <th>2</th>\n",
              "      <td>8</td>\n",
              "      <td>3</td>\n",
              "      <td>12</td>\n",
              "    </tr>\n",
              "  </tbody>\n",
              "</table>\n",
              "</div>"
            ],
            "text/plain": [
              "   RM  LSTAT  PTRATIO\n",
              "0   5     17       15\n",
              "1   4     32       22\n",
              "2   8      3       12"
            ]
          },
          "metadata": {},
          "execution_count": 21
        }
      ]
    },
    {
      "cell_type": "code",
      "metadata": {
        "colab": {
          "base_uri": "https://localhost:8080/"
        },
        "id": "hWZFnjyVs-4D",
        "outputId": "1f86825e-6739-4d37-a58a-affcde8d3bb4"
      },
      "source": [
        "client_preds = pipe3de.predict(X_test)\n",
        "client_preds"
      ],
      "execution_count": null,
      "outputs": [
        {
          "output_type": "execute_result",
          "data": {
            "text/plain": [
              "array([ 336512.86711233,  158921.77717015, 1073860.92303721])"
            ]
          },
          "metadata": {},
          "execution_count": 22
        }
      ]
    },
    {
      "cell_type": "code",
      "metadata": {
        "id": "lgjqFysitO2l"
      },
      "source": [
        ""
      ],
      "execution_count": null,
      "outputs": []
    },
    {
      "cell_type": "markdown",
      "metadata": {
        "id": "c91GcJAK_g1W"
      },
      "source": [
        "After you have your variable `client_preds`, run this code to visualize your predictions against the home prices (MEDV)\n",
        "\n",
        "```python\n",
        "import matplotlib.pyplot as plt\n",
        "for i,price in enumerate(client_preds):\n",
        "    plt.hist(y, bins = 30,color='r',ec='black')\n",
        "    plt.axvline(price, lw = 3)\n",
        "    plt.text(price-50000, 40, 'Client '+str(i+1), rotation=90)\n",
        "```\n",
        "\n",
        "Note that \n",
        "- `client_preds` should be a vector of size 3 (since we only have 3 records in the new test set) \n",
        "- `y` should be the column MEDV in the dataset you use to train"
      ]
    },
    {
      "cell_type": "code",
      "metadata": {
        "id": "LwoWyxr4BEcU",
        "colab": {
          "base_uri": "https://localhost:8080/",
          "height": 286
        },
        "outputId": "b0e995bd-da9a-4d01-d1cb-ebaae1be9edf"
      },
      "source": [
        "# your code here\n",
        "import matplotlib.pyplot as plt\n",
        "\n",
        "for i,price in enumerate(client_preds):\n",
        "    plt.hist(y_train, bins = 30,color='r',ec='black')\n",
        "    plt.axvline(price, lw = 3)\n",
        "    plt.text(price-50000, 40, 'Client '+str(i+1), rotation=90)"
      ],
      "execution_count": null,
      "outputs": [
        {
          "output_type": "display_data",
          "data": {
            "image/png": "[encoded data removed]",
            "text/plain": [
              "<Figure size 432x288 with 1 Axes>"
            ]
          },
          "metadata": {
            "needs_background": "light"
          }
        }
      ]
    },
    {
      "cell_type": "markdown",
      "metadata": {
        "id": "5TjIFnYmBEwr"
      },
      "source": [
        "Do these prices seem reasonable given the values for the respective features?"
      ]
    },
    {
      "cell_type": "code",
      "metadata": {
        "colab": {
          "base_uri": "https://localhost:8080/",
          "height": 142
        },
        "id": "ADW-4PFFSI_X",
        "outputId": "e5021469-52d4-400e-b214-a2aeb10bcd56"
      },
      "source": [
        "X_test"
      ],
      "execution_count": null,
      "outputs": [
        {
          "output_type": "execute_result",
          "data": {
            "text/html": [
              "<div>\n",
              "<style scoped>\n",
              "    .dataframe tbody tr th:only-of-type {\n",
              "        vertical-align: middle;\n",
              "    }\n",
              "\n",
              "    .dataframe tbody tr th {\n",
              "        vertical-align: top;\n",
              "    }\n",
              "\n",
              "    .dataframe thead th {\n",
              "        text-align: right;\n",
              "    }\n",
              "</style>\n",
              "<table border=\"1\" class=\"dataframe\">\n",
              "  <thead>\n",
              "    <tr style=\"text-align: right;\">\n",
              "      <th></th>\n",
              "      <th>RM</th>\n",
              "      <th>LSTAT</th>\n",
              "      <th>PTRATIO</th>\n",
              "    </tr>\n",
              "  </thead>\n",
              "  <tbody>\n",
              "    <tr>\n",
              "      <th>0</th>\n",
              "      <td>5</td>\n",
              "      <td>17</td>\n",
              "      <td>15</td>\n",
              "    </tr>\n",
              "    <tr>\n",
              "      <th>1</th>\n",
              "      <td>4</td>\n",
              "      <td>32</td>\n",
              "      <td>22</td>\n",
              "    </tr>\n",
              "    <tr>\n",
              "      <th>2</th>\n",
              "      <td>8</td>\n",
              "      <td>3</td>\n",
              "      <td>12</td>\n",
              "    </tr>\n",
              "  </tbody>\n",
              "</table>\n",
              "</div>"
            ],
            "text/plain": [
              "   RM  LSTAT  PTRATIO\n",
              "0   5     17       15\n",
              "1   4     32       22\n",
              "2   8      3       12"
            ]
          },
          "metadata": {},
          "execution_count": 24
        }
      ]
    },
    {
      "cell_type": "code",
      "metadata": {
        "colab": {
          "base_uri": "https://localhost:8080/",
          "height": 142
        },
        "id": "D2xYnfZIRlmc",
        "outputId": "91bce9b9-7d0e-49e1-9704-d5d256347a87"
      },
      "source": [
        "X_test['MEDV'] = client_preds\n",
        "X_test"
      ],
      "execution_count": null,
      "outputs": [
        {
          "output_type": "execute_result",
          "data": {
            "text/html": [
              "<div>\n",
              "<style scoped>\n",
              "    .dataframe tbody tr th:only-of-type {\n",
              "        vertical-align: middle;\n",
              "    }\n",
              "\n",
              "    .dataframe tbody tr th {\n",
              "        vertical-align: top;\n",
              "    }\n",
              "\n",
              "    .dataframe thead th {\n",
              "        text-align: right;\n",
              "    }\n",
              "</style>\n",
              "<table border=\"1\" class=\"dataframe\">\n",
              "  <thead>\n",
              "    <tr style=\"text-align: right;\">\n",
              "      <th></th>\n",
              "      <th>RM</th>\n",
              "      <th>LSTAT</th>\n",
              "      <th>PTRATIO</th>\n",
              "      <th>MEDV</th>\n",
              "    </tr>\n",
              "  </thead>\n",
              "  <tbody>\n",
              "    <tr>\n",
              "      <th>0</th>\n",
              "      <td>5</td>\n",
              "      <td>17</td>\n",
              "      <td>15</td>\n",
              "      <td>336512.87</td>\n",
              "    </tr>\n",
              "    <tr>\n",
              "      <th>1</th>\n",
              "      <td>4</td>\n",
              "      <td>32</td>\n",
              "      <td>22</td>\n",
              "      <td>158921.78</td>\n",
              "    </tr>\n",
              "    <tr>\n",
              "      <th>2</th>\n",
              "      <td>8</td>\n",
              "      <td>3</td>\n",
              "      <td>12</td>\n",
              "      <td>1073860.92</td>\n",
              "    </tr>\n",
              "  </tbody>\n",
              "</table>\n",
              "</div>"
            ],
            "text/plain": [
              "   RM  LSTAT  PTRATIO       MEDV\n",
              "0   5     17       15  336512.87\n",
              "1   4     32       22  158921.78\n",
              "2   8      3       12 1073860.92"
            ]
          },
          "metadata": {},
          "execution_count": 25
        }
      ]
    },
    {
      "cell_type": "code",
      "metadata": {
        "colab": {
          "base_uri": "https://localhost:8080/",
          "height": 670
        },
        "id": "64_QU-PQRclx",
        "outputId": "5ceae228-905b-451b-d2b1-9c6315dca5fc"
      },
      "source": [
        "plt.figure(figsize=(21, 7))\n",
        "plt.subplot(231)\n",
        "sns.scatterplot(data=df,x='RM',y='MEDV')\n",
        "plt.twinx()\n",
        "sns.scatterplot(data=X_test,x='RM',y='MEDV',color='r')\n",
        "\n",
        "plt.subplot(232)\n",
        "df.plot.scatter(x='LSTAT',y='MEDV')\n",
        "plt.twinx()\n",
        "sns.scatterplot(data=X_test,x='LSTAT',y='MEDV',color='r')\n",
        "\n",
        "\n",
        "plt.subplot(233)\n",
        "df.plot.scatter(x='LSTAT',y='MEDV')\n",
        "plt.twinx()\n",
        "sns.scatterplot(data=X_test,x='LSTAT',y='MEDV',color='r')\n",
        "\n",
        "# df.plot.scatter(x='PTRATIO',y='MEDV',ax=ax[2])\n",
        "\n",
        "\n"
      ],
      "execution_count": null,
      "outputs": [
        {
          "output_type": "execute_result",
          "data": {
            "text/plain": [
              "<matplotlib.axes._subplots.AxesSubplot at 0x7f4038248b90>"
            ]
          },
          "metadata": {},
          "execution_count": 26
        },
        {
          "output_type": "display_data",
          "data": {
            "image/png": "[encoded data removed]",
            "text/plain": [
              "<Figure size 1512x504 with 3 Axes>"
            ]
          },
          "metadata": {
            "needs_background": "light"
          }
        },
        {
          "output_type": "display_data",
          "data": {
            "image/png": "[encoded data removed]",
            "text/plain": [
              "<Figure size 432x288 with 1 Axes>"
            ]
          },
          "metadata": {
            "needs_background": "light"
          }
        },
        {
          "output_type": "display_data",
          "data": {
            "image/png": "[encoded data removed]",
            "text/plain": [
              "<Figure size 432x288 with 2 Axes>"
            ]
          },
          "metadata": {
            "needs_background": "light"
          }
        }
      ]
    },
    {
      "cell_type": "markdown",
      "metadata": {
        "id": "Wwq9I7Nor0CP"
      },
      "source": [
        "# Step 6: Applicability\n",
        "\n",
        "In a few sentences, discuss whether the constructed model should or should not be used in a real-world setting.\n",
        "\n",
        "Hint: Take a look at the range in prices as calculated in the code snippet above. Some questions to answering:\n",
        "\n",
        "- How relevant today is data that was collected from 1978? How important is inflation?\n",
        "- Are the features present in the data sufficient to describe a home? Do you think factors like quality of apppliances in the home, square feet of the plot area, presence of pool or not etc should factor in?\n",
        "- Is the model robust enough to make consistent predictions?\n",
        "Would data collected in an urban city like Boston be applicable in a rural city?\n",
        "- Is it fair to judge the price of an individual home based on the characteristics of the entire neighborhood?"
      ]
    }
  ]
}